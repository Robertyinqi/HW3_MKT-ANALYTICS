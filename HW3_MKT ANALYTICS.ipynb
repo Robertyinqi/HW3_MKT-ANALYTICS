{
 "cells": [
  {
   "cell_type": "code",
   "execution_count": 1,
   "id": "73e2ad3d",
   "metadata": {},
   "outputs": [],
   "source": [
    "import pandas as pd"
   ]
  },
  {
   "cell_type": "code",
   "execution_count": 2,
   "id": "1c60e8ec",
   "metadata": {},
   "outputs": [],
   "source": [
    "df = pd.read_csv('attribution_allocation_student_data.csv')"
   ]
  },
  {
   "cell_type": "code",
   "execution_count": 3,
   "id": "59627bfd",
   "metadata": {},
   "outputs": [
    {
     "data": {
      "text/html": [
       "<div>\n",
       "<style scoped>\n",
       "    .dataframe tbody tr th:only-of-type {\n",
       "        vertical-align: middle;\n",
       "    }\n",
       "\n",
       "    .dataframe tbody tr th {\n",
       "        vertical-align: top;\n",
       "    }\n",
       "\n",
       "    .dataframe thead th {\n",
       "        text-align: right;\n",
       "    }\n",
       "</style>\n",
       "<table border=\"1\" class=\"dataframe\">\n",
       "  <thead>\n",
       "    <tr style=\"text-align: right;\">\n",
       "      <th></th>\n",
       "      <th>convert_TF</th>\n",
       "      <th>touch1</th>\n",
       "      <th>touch2</th>\n",
       "      <th>touch3</th>\n",
       "      <th>touch4</th>\n",
       "      <th>touch5</th>\n",
       "      <th>tier</th>\n",
       "    </tr>\n",
       "  </thead>\n",
       "  <tbody>\n",
       "    <tr>\n",
       "      <th>0</th>\n",
       "      <td>True</td>\n",
       "      <td>referral</td>\n",
       "      <td>referral</td>\n",
       "      <td>referral</td>\n",
       "      <td>email</td>\n",
       "      <td>NaN</td>\n",
       "      <td>1</td>\n",
       "    </tr>\n",
       "    <tr>\n",
       "      <th>1</th>\n",
       "      <td>True</td>\n",
       "      <td>referral</td>\n",
       "      <td>display</td>\n",
       "      <td>display</td>\n",
       "      <td>email</td>\n",
       "      <td>NaN</td>\n",
       "      <td>1</td>\n",
       "    </tr>\n",
       "    <tr>\n",
       "      <th>2</th>\n",
       "      <td>True</td>\n",
       "      <td>email</td>\n",
       "      <td>display</td>\n",
       "      <td>referral</td>\n",
       "      <td>NaN</td>\n",
       "      <td>NaN</td>\n",
       "      <td>1</td>\n",
       "    </tr>\n",
       "    <tr>\n",
       "      <th>3</th>\n",
       "      <td>True</td>\n",
       "      <td>referral</td>\n",
       "      <td>referral</td>\n",
       "      <td>email</td>\n",
       "      <td>NaN</td>\n",
       "      <td>NaN</td>\n",
       "      <td>1</td>\n",
       "    </tr>\n",
       "    <tr>\n",
       "      <th>4</th>\n",
       "      <td>True</td>\n",
       "      <td>social</td>\n",
       "      <td>referral</td>\n",
       "      <td>NaN</td>\n",
       "      <td>NaN</td>\n",
       "      <td>NaN</td>\n",
       "      <td>1</td>\n",
       "    </tr>\n",
       "  </tbody>\n",
       "</table>\n",
       "</div>"
      ],
      "text/plain": [
       "   convert_TF    touch1    touch2    touch3 touch4 touch5  tier\n",
       "0        True  referral  referral  referral  email    NaN     1\n",
       "1        True  referral   display   display  email    NaN     1\n",
       "2        True     email   display  referral    NaN    NaN     1\n",
       "3        True  referral  referral     email    NaN    NaN     1\n",
       "4        True    social  referral       NaN    NaN    NaN     1"
      ]
     },
     "execution_count": 3,
     "metadata": {},
     "output_type": "execute_result"
    }
   ],
   "source": [
    "df.head()"
   ]
  },
  {
   "cell_type": "code",
   "execution_count": 4,
   "id": "1687c4ed",
   "metadata": {},
   "outputs": [],
   "source": [
    "df['convert_TF'] = df['convert_TF'].astype(str)"
   ]
  },
  {
   "cell_type": "code",
   "execution_count": 5,
   "id": "30b5ed08",
   "metadata": {},
   "outputs": [],
   "source": [
    "df['convert_TF'] = df['convert_TF'].map(\n",
    "                   {\"True\":1 ,\"False\":0})"
   ]
  },
  {
   "cell_type": "code",
   "execution_count": 6,
   "id": "0e498a5f",
   "metadata": {},
   "outputs": [
    {
     "data": {
      "text/html": [
       "<div>\n",
       "<style scoped>\n",
       "    .dataframe tbody tr th:only-of-type {\n",
       "        vertical-align: middle;\n",
       "    }\n",
       "\n",
       "    .dataframe tbody tr th {\n",
       "        vertical-align: top;\n",
       "    }\n",
       "\n",
       "    .dataframe thead th {\n",
       "        text-align: right;\n",
       "    }\n",
       "</style>\n",
       "<table border=\"1\" class=\"dataframe\">\n",
       "  <thead>\n",
       "    <tr style=\"text-align: right;\">\n",
       "      <th></th>\n",
       "      <th>convert_TF</th>\n",
       "      <th>touch1</th>\n",
       "      <th>touch2</th>\n",
       "      <th>touch3</th>\n",
       "      <th>touch4</th>\n",
       "      <th>touch5</th>\n",
       "      <th>tier</th>\n",
       "    </tr>\n",
       "  </thead>\n",
       "  <tbody>\n",
       "    <tr>\n",
       "      <th>0</th>\n",
       "      <td>1</td>\n",
       "      <td>referral</td>\n",
       "      <td>referral</td>\n",
       "      <td>referral</td>\n",
       "      <td>email</td>\n",
       "      <td>NaN</td>\n",
       "      <td>1</td>\n",
       "    </tr>\n",
       "    <tr>\n",
       "      <th>1</th>\n",
       "      <td>1</td>\n",
       "      <td>referral</td>\n",
       "      <td>display</td>\n",
       "      <td>display</td>\n",
       "      <td>email</td>\n",
       "      <td>NaN</td>\n",
       "      <td>1</td>\n",
       "    </tr>\n",
       "    <tr>\n",
       "      <th>2</th>\n",
       "      <td>1</td>\n",
       "      <td>email</td>\n",
       "      <td>display</td>\n",
       "      <td>referral</td>\n",
       "      <td>NaN</td>\n",
       "      <td>NaN</td>\n",
       "      <td>1</td>\n",
       "    </tr>\n",
       "    <tr>\n",
       "      <th>3</th>\n",
       "      <td>1</td>\n",
       "      <td>referral</td>\n",
       "      <td>referral</td>\n",
       "      <td>email</td>\n",
       "      <td>NaN</td>\n",
       "      <td>NaN</td>\n",
       "      <td>1</td>\n",
       "    </tr>\n",
       "    <tr>\n",
       "      <th>4</th>\n",
       "      <td>1</td>\n",
       "      <td>social</td>\n",
       "      <td>referral</td>\n",
       "      <td>NaN</td>\n",
       "      <td>NaN</td>\n",
       "      <td>NaN</td>\n",
       "      <td>1</td>\n",
       "    </tr>\n",
       "  </tbody>\n",
       "</table>\n",
       "</div>"
      ],
      "text/plain": [
       "   convert_TF    touch1    touch2    touch3 touch4 touch5  tier\n",
       "0           1  referral  referral  referral  email    NaN     1\n",
       "1           1  referral   display   display  email    NaN     1\n",
       "2           1     email   display  referral    NaN    NaN     1\n",
       "3           1  referral  referral     email    NaN    NaN     1\n",
       "4           1    social  referral       NaN    NaN    NaN     1"
      ]
     },
     "execution_count": 6,
     "metadata": {},
     "output_type": "execute_result"
    }
   ],
   "source": [
    "df.head()"
   ]
  },
  {
   "cell_type": "code",
   "execution_count": 7,
   "id": "c00bc2eb",
   "metadata": {},
   "outputs": [],
   "source": [
    "df_tier1 = df[df['tier'] == 1]\n",
    "df_tier2 = df[df['tier'] == 2]\n",
    "df_tier3 = df[df['tier'] == 3]"
   ]
  },
  {
   "cell_type": "code",
   "execution_count": 8,
   "id": "19a6efb3",
   "metadata": {},
   "outputs": [],
   "source": [
    "Con_rate_tier1 = df_tier1['convert_TF'].sum()/df_tier1.shape[0]\n",
    "Con_rate_tier2 = df_tier2['convert_TF'].sum()/df_tier2.shape[0]\n",
    "Con_rate_tier3 = df_tier3['convert_TF'].sum()/df_tier3.shape[0]"
   ]
  },
  {
   "cell_type": "code",
   "execution_count": 9,
   "id": "36f0ac9b",
   "metadata": {},
   "outputs": [],
   "source": [
    "CAC_1 = 5000/df_tier1['convert_TF'].sum()\n",
    "CAC_2 = 10000/df_tier2['convert_TF'].sum()\n",
    "CAC_3 = 15000/df_tier3['convert_TF'].sum()"
   ]
  },
  {
   "cell_type": "code",
   "execution_count": 10,
   "id": "3a3e875d",
   "metadata": {},
   "outputs": [
    {
     "data": {
      "text/plain": [
       "1.7705382436260624"
      ]
     },
     "execution_count": 10,
     "metadata": {},
     "output_type": "execute_result"
    }
   ],
   "source": [
    "CAC_1"
   ]
  },
  {
   "cell_type": "code",
   "execution_count": 11,
   "id": "4b1c32f4",
   "metadata": {},
   "outputs": [
    {
     "data": {
      "text/plain": [
       "2.044153720359771"
      ]
     },
     "execution_count": 11,
     "metadata": {},
     "output_type": "execute_result"
    }
   ],
   "source": [
    "CAC_2"
   ]
  },
  {
   "cell_type": "code",
   "execution_count": 12,
   "id": "a510c7d4",
   "metadata": {
    "scrolled": true
   },
   "outputs": [
    {
     "data": {
      "text/plain": [
       "2.4740227610094014"
      ]
     },
     "execution_count": 12,
     "metadata": {},
     "output_type": "execute_result"
    }
   ],
   "source": [
    "CAC_3 "
   ]
  },
  {
   "cell_type": "code",
   "execution_count": 13,
   "id": "7411fe92",
   "metadata": {},
   "outputs": [
    {
     "data": {
      "text/plain": [
       "0.24872291703364452"
      ]
     },
     "execution_count": 13,
     "metadata": {},
     "output_type": "execute_result"
    }
   ],
   "source": [
    "Con_rate_tier1"
   ]
  },
  {
   "cell_type": "code",
   "execution_count": 14,
   "id": "c7c5a2f3",
   "metadata": {},
   "outputs": [
    {
     "data": {
      "text/plain": [
       "0.21543068522106745"
      ]
     },
     "execution_count": 14,
     "metadata": {},
     "output_type": "execute_result"
    }
   ],
   "source": [
    "Con_rate_tier2"
   ]
  },
  {
   "cell_type": "code",
   "execution_count": 15,
   "id": "8f86d3fe",
   "metadata": {},
   "outputs": [
    {
     "data": {
      "text/plain": [
       "0.17799894310375197"
      ]
     },
     "execution_count": 15,
     "metadata": {},
     "output_type": "execute_result"
    }
   ],
   "source": [
    "Con_rate_tier3"
   ]
  },
  {
   "cell_type": "markdown",
   "id": "783e7c6b",
   "metadata": {},
   "source": [
    "# Q1"
   ]
  },
  {
   "cell_type": "code",
   "execution_count": 16,
   "id": "4b30bc59",
   "metadata": {},
   "outputs": [
    {
     "data": {
      "text/html": [
       "<div>\n",
       "<style scoped>\n",
       "    .dataframe tbody tr th:only-of-type {\n",
       "        vertical-align: middle;\n",
       "    }\n",
       "\n",
       "    .dataframe tbody tr th {\n",
       "        vertical-align: top;\n",
       "    }\n",
       "\n",
       "    .dataframe thead th {\n",
       "        text-align: right;\n",
       "    }\n",
       "</style>\n",
       "<table border=\"1\" class=\"dataframe\">\n",
       "  <thead>\n",
       "    <tr style=\"text-align: right;\">\n",
       "      <th></th>\n",
       "      <th>convert_TF</th>\n",
       "      <th>touch1</th>\n",
       "      <th>touch2</th>\n",
       "      <th>touch3</th>\n",
       "      <th>touch4</th>\n",
       "      <th>touch5</th>\n",
       "      <th>tier</th>\n",
       "    </tr>\n",
       "  </thead>\n",
       "  <tbody>\n",
       "    <tr>\n",
       "      <th>0</th>\n",
       "      <td>1</td>\n",
       "      <td>referral</td>\n",
       "      <td>referral</td>\n",
       "      <td>referral</td>\n",
       "      <td>email</td>\n",
       "      <td>NaN</td>\n",
       "      <td>1</td>\n",
       "    </tr>\n",
       "    <tr>\n",
       "      <th>1</th>\n",
       "      <td>1</td>\n",
       "      <td>referral</td>\n",
       "      <td>display</td>\n",
       "      <td>display</td>\n",
       "      <td>email</td>\n",
       "      <td>NaN</td>\n",
       "      <td>1</td>\n",
       "    </tr>\n",
       "    <tr>\n",
       "      <th>2</th>\n",
       "      <td>1</td>\n",
       "      <td>email</td>\n",
       "      <td>display</td>\n",
       "      <td>referral</td>\n",
       "      <td>NaN</td>\n",
       "      <td>NaN</td>\n",
       "      <td>1</td>\n",
       "    </tr>\n",
       "    <tr>\n",
       "      <th>3</th>\n",
       "      <td>1</td>\n",
       "      <td>referral</td>\n",
       "      <td>referral</td>\n",
       "      <td>email</td>\n",
       "      <td>NaN</td>\n",
       "      <td>NaN</td>\n",
       "      <td>1</td>\n",
       "    </tr>\n",
       "    <tr>\n",
       "      <th>4</th>\n",
       "      <td>1</td>\n",
       "      <td>social</td>\n",
       "      <td>referral</td>\n",
       "      <td>NaN</td>\n",
       "      <td>NaN</td>\n",
       "      <td>NaN</td>\n",
       "      <td>1</td>\n",
       "    </tr>\n",
       "  </tbody>\n",
       "</table>\n",
       "</div>"
      ],
      "text/plain": [
       "   convert_TF    touch1    touch2    touch3 touch4 touch5  tier\n",
       "0           1  referral  referral  referral  email    NaN     1\n",
       "1           1  referral   display   display  email    NaN     1\n",
       "2           1     email   display  referral    NaN    NaN     1\n",
       "3           1  referral  referral     email    NaN    NaN     1\n",
       "4           1    social  referral       NaN    NaN    NaN     1"
      ]
     },
     "execution_count": 16,
     "metadata": {},
     "output_type": "execute_result"
    }
   ],
   "source": [
    "df_tier1.head()"
   ]
  },
  {
   "cell_type": "code",
   "execution_count": 17,
   "id": "ffeb2f74",
   "metadata": {},
   "outputs": [
    {
     "name": "stderr",
     "output_type": "stream",
     "text": [
      "<ipython-input-17-395974612e6d>:2: SettingWithCopyWarning: \n",
      "A value is trying to be set on a copy of a slice from a DataFrame.\n",
      "Try using .loc[row_indexer,col_indexer] = value instead\n",
      "\n",
      "See the caveats in the documentation: https://pandas.pydata.org/pandas-docs/stable/user_guide/indexing.html#returning-a-view-versus-a-copy\n",
      "  df_tier1['Last interaction'] = df_tier1.iloc[:, 1:].ffill(axis=1).iloc[:, -2]\n",
      "<ipython-input-17-395974612e6d>:3: SettingWithCopyWarning: \n",
      "A value is trying to be set on a copy of a slice from a DataFrame.\n",
      "Try using .loc[row_indexer,col_indexer] = value instead\n",
      "\n",
      "See the caveats in the documentation: https://pandas.pydata.org/pandas-docs/stable/user_guide/indexing.html#returning-a-view-versus-a-copy\n",
      "  df_tier2['Last interaction'] = df_tier2.iloc[:, 1:].ffill(axis=1).iloc[:, -2]\n",
      "<ipython-input-17-395974612e6d>:4: SettingWithCopyWarning: \n",
      "A value is trying to be set on a copy of a slice from a DataFrame.\n",
      "Try using .loc[row_indexer,col_indexer] = value instead\n",
      "\n",
      "See the caveats in the documentation: https://pandas.pydata.org/pandas-docs/stable/user_guide/indexing.html#returning-a-view-versus-a-copy\n",
      "  df_tier3['Last interaction'] = df_tier3.iloc[:, 1:].ffill(axis=1).iloc[:, -2]\n"
     ]
    }
   ],
   "source": [
    "df['Last interaction'] = df.iloc[:, 1:].ffill(axis=1).iloc[:, -2]\n",
    "df_tier1['Last interaction'] = df_tier1.iloc[:, 1:].ffill(axis=1).iloc[:, -2]\n",
    "df_tier2['Last interaction'] = df_tier2.iloc[:, 1:].ffill(axis=1).iloc[:, -2]\n",
    "df_tier3['Last interaction'] = df_tier3.iloc[:, 1:].ffill(axis=1).iloc[:, -2]"
   ]
  },
  {
   "cell_type": "code",
   "execution_count": 18,
   "id": "2db01397",
   "metadata": {},
   "outputs": [],
   "source": [
    "channel_list = df['Last interaction'].unique()"
   ]
  },
  {
   "cell_type": "markdown",
   "id": "0613d217",
   "metadata": {},
   "source": [
    "q1(a) First interaction"
   ]
  },
  {
   "cell_type": "code",
   "execution_count": 20,
   "id": "12696994",
   "metadata": {},
   "outputs": [],
   "source": [
    "dict_1a_tier1 = {}\n",
    "for channel in channel_list:\n",
    "    dict_1a_tier1[channel] = df_tier1[df_tier1['touch1'] == channel]['convert_TF'].sum()\n",
    "    \n",
    "dict_1a_tier2 = {}\n",
    "for channel in channel_list:\n",
    "    dict_1a_tier2[channel] = df_tier2[df_tier2['touch1'] == channel]['convert_TF'].sum()\n",
    "    \n",
    "dict_1a_tier3 = {}\n",
    "for channel in channel_list:\n",
    "    dict_1a_tier3[channel] = df_tier3[df_tier3['touch1'] == channel]['convert_TF'].sum()"
   ]
  },
  {
   "cell_type": "code",
   "execution_count": 21,
   "id": "7009cb60",
   "metadata": {},
   "outputs": [],
   "source": [
    "df_1a_tier1 = pd.DataFrame.from_dict(dict_1a_tier1,orient = 'index', columns = ['convert_num'])\n",
    "df_1a_tier1 = df_1a_tier1.reset_index().rename(columns = {'index':'channel'})\n",
    "\n",
    "df_1a_tier2 = pd.DataFrame.from_dict(dict_1a_tier2,orient = 'index', columns = ['convert_num'])\n",
    "df_1a_tier2 = df_1a_tier2.reset_index().rename(columns = {'index':'channel'})\n",
    "\n",
    "df_1a_tier3 = pd.DataFrame.from_dict(dict_1a_tier3,orient = 'index', columns = ['convert_num'])\n",
    "df_1a_tier3 = df_1a_tier3.reset_index().rename(columns = {'index':'channel'})"
   ]
  },
  {
   "cell_type": "code",
   "execution_count": 22,
   "id": "1ccf3e5e",
   "metadata": {},
   "outputs": [],
   "source": [
    "spending_tier1 = [1000,1000,1000,1000,1000,0,0]\n",
    "spending_tier2 = [2000,2000,2000,2000,2000,0,0]\n",
    "spending_tier3 = [3000,3000,3000,3000,3000,0,0]"
   ]
  },
  {
   "cell_type": "code",
   "execution_count": 23,
   "id": "fc017a74",
   "metadata": {},
   "outputs": [],
   "source": [
    "df_1a_tier1['spending'] = spending_tier1\n",
    "df_1a_tier2['spending'] = spending_tier2\n",
    "df_1a_tier3['spending'] = spending_tier3"
   ]
  },
  {
   "cell_type": "code",
   "execution_count": 24,
   "id": "56bedfe4",
   "metadata": {},
   "outputs": [],
   "source": [
    "df_1a_tier1['CAC'] = df_1a_tier1['spending']/df_1a_tier1['convert_num']\n",
    "df_1a_tier2['CAC'] = df_1a_tier2['spending']/df_1a_tier2['convert_num']\n",
    "df_1a_tier3['CAC'] = df_1a_tier3['spending']/df_1a_tier3['convert_num']"
   ]
  },
  {
   "cell_type": "code",
   "execution_count": 25,
   "id": "73c61859",
   "metadata": {},
   "outputs": [
    {
     "data": {
      "text/html": [
       "<div>\n",
       "<style scoped>\n",
       "    .dataframe tbody tr th:only-of-type {\n",
       "        vertical-align: middle;\n",
       "    }\n",
       "\n",
       "    .dataframe tbody tr th {\n",
       "        vertical-align: top;\n",
       "    }\n",
       "\n",
       "    .dataframe thead th {\n",
       "        text-align: right;\n",
       "    }\n",
       "</style>\n",
       "<table border=\"1\" class=\"dataframe\">\n",
       "  <thead>\n",
       "    <tr style=\"text-align: right;\">\n",
       "      <th></th>\n",
       "      <th>channel</th>\n",
       "      <th>convert_num</th>\n",
       "      <th>spending</th>\n",
       "      <th>CAC</th>\n",
       "    </tr>\n",
       "  </thead>\n",
       "  <tbody>\n",
       "    <tr>\n",
       "      <th>0</th>\n",
       "      <td>email</td>\n",
       "      <td>264</td>\n",
       "      <td>1000</td>\n",
       "      <td>3.787879</td>\n",
       "    </tr>\n",
       "    <tr>\n",
       "      <th>1</th>\n",
       "      <td>referral</td>\n",
       "      <td>1519</td>\n",
       "      <td>1000</td>\n",
       "      <td>0.658328</td>\n",
       "    </tr>\n",
       "    <tr>\n",
       "      <th>2</th>\n",
       "      <td>social</td>\n",
       "      <td>475</td>\n",
       "      <td>1000</td>\n",
       "      <td>2.105263</td>\n",
       "    </tr>\n",
       "    <tr>\n",
       "      <th>3</th>\n",
       "      <td>paid_search</td>\n",
       "      <td>129</td>\n",
       "      <td>1000</td>\n",
       "      <td>7.751938</td>\n",
       "    </tr>\n",
       "    <tr>\n",
       "      <th>4</th>\n",
       "      <td>display</td>\n",
       "      <td>435</td>\n",
       "      <td>1000</td>\n",
       "      <td>2.298851</td>\n",
       "    </tr>\n",
       "    <tr>\n",
       "      <th>5</th>\n",
       "      <td>direct</td>\n",
       "      <td>1</td>\n",
       "      <td>0</td>\n",
       "      <td>0.000000</td>\n",
       "    </tr>\n",
       "    <tr>\n",
       "      <th>6</th>\n",
       "      <td>organic_search</td>\n",
       "      <td>1</td>\n",
       "      <td>0</td>\n",
       "      <td>0.000000</td>\n",
       "    </tr>\n",
       "  </tbody>\n",
       "</table>\n",
       "</div>"
      ],
      "text/plain": [
       "          channel  convert_num  spending       CAC\n",
       "0           email          264      1000  3.787879\n",
       "1        referral         1519      1000  0.658328\n",
       "2          social          475      1000  2.105263\n",
       "3     paid_search          129      1000  7.751938\n",
       "4         display          435      1000  2.298851\n",
       "5          direct            1         0  0.000000\n",
       "6  organic_search            1         0  0.000000"
      ]
     },
     "execution_count": 25,
     "metadata": {},
     "output_type": "execute_result"
    }
   ],
   "source": [
    "df_1a_tier1"
   ]
  },
  {
   "cell_type": "code",
   "execution_count": 26,
   "id": "77013004",
   "metadata": {},
   "outputs": [
    {
     "data": {
      "text/html": [
       "<div>\n",
       "<style scoped>\n",
       "    .dataframe tbody tr th:only-of-type {\n",
       "        vertical-align: middle;\n",
       "    }\n",
       "\n",
       "    .dataframe tbody tr th {\n",
       "        vertical-align: top;\n",
       "    }\n",
       "\n",
       "    .dataframe thead th {\n",
       "        text-align: right;\n",
       "    }\n",
       "</style>\n",
       "<table border=\"1\" class=\"dataframe\">\n",
       "  <thead>\n",
       "    <tr style=\"text-align: right;\">\n",
       "      <th></th>\n",
       "      <th>channel</th>\n",
       "      <th>convert_num</th>\n",
       "      <th>spending</th>\n",
       "      <th>CAC</th>\n",
       "    </tr>\n",
       "  </thead>\n",
       "  <tbody>\n",
       "    <tr>\n",
       "      <th>0</th>\n",
       "      <td>email</td>\n",
       "      <td>402</td>\n",
       "      <td>2000</td>\n",
       "      <td>4.975124</td>\n",
       "    </tr>\n",
       "    <tr>\n",
       "      <th>1</th>\n",
       "      <td>referral</td>\n",
       "      <td>2719</td>\n",
       "      <td>2000</td>\n",
       "      <td>0.735565</td>\n",
       "    </tr>\n",
       "    <tr>\n",
       "      <th>2</th>\n",
       "      <td>social</td>\n",
       "      <td>823</td>\n",
       "      <td>2000</td>\n",
       "      <td>2.430134</td>\n",
       "    </tr>\n",
       "    <tr>\n",
       "      <th>3</th>\n",
       "      <td>paid_search</td>\n",
       "      <td>211</td>\n",
       "      <td>2000</td>\n",
       "      <td>9.478673</td>\n",
       "    </tr>\n",
       "    <tr>\n",
       "      <th>4</th>\n",
       "      <td>display</td>\n",
       "      <td>726</td>\n",
       "      <td>2000</td>\n",
       "      <td>2.754821</td>\n",
       "    </tr>\n",
       "    <tr>\n",
       "      <th>5</th>\n",
       "      <td>direct</td>\n",
       "      <td>4</td>\n",
       "      <td>0</td>\n",
       "      <td>0.000000</td>\n",
       "    </tr>\n",
       "    <tr>\n",
       "      <th>6</th>\n",
       "      <td>organic_search</td>\n",
       "      <td>7</td>\n",
       "      <td>0</td>\n",
       "      <td>0.000000</td>\n",
       "    </tr>\n",
       "  </tbody>\n",
       "</table>\n",
       "</div>"
      ],
      "text/plain": [
       "          channel  convert_num  spending       CAC\n",
       "0           email          402      2000  4.975124\n",
       "1        referral         2719      2000  0.735565\n",
       "2          social          823      2000  2.430134\n",
       "3     paid_search          211      2000  9.478673\n",
       "4         display          726      2000  2.754821\n",
       "5          direct            4         0  0.000000\n",
       "6  organic_search            7         0  0.000000"
      ]
     },
     "execution_count": 26,
     "metadata": {},
     "output_type": "execute_result"
    }
   ],
   "source": [
    "df_1a_tier2"
   ]
  },
  {
   "cell_type": "code",
   "execution_count": 27,
   "id": "17073e14",
   "metadata": {},
   "outputs": [
    {
     "data": {
      "text/html": [
       "<div>\n",
       "<style scoped>\n",
       "    .dataframe tbody tr th:only-of-type {\n",
       "        vertical-align: middle;\n",
       "    }\n",
       "\n",
       "    .dataframe tbody tr th {\n",
       "        vertical-align: top;\n",
       "    }\n",
       "\n",
       "    .dataframe thead th {\n",
       "        text-align: right;\n",
       "    }\n",
       "</style>\n",
       "<table border=\"1\" class=\"dataframe\">\n",
       "  <thead>\n",
       "    <tr style=\"text-align: right;\">\n",
       "      <th></th>\n",
       "      <th>channel</th>\n",
       "      <th>convert_num</th>\n",
       "      <th>spending</th>\n",
       "      <th>CAC</th>\n",
       "    </tr>\n",
       "  </thead>\n",
       "  <tbody>\n",
       "    <tr>\n",
       "      <th>0</th>\n",
       "      <td>email</td>\n",
       "      <td>618</td>\n",
       "      <td>3000</td>\n",
       "      <td>4.854369</td>\n",
       "    </tr>\n",
       "    <tr>\n",
       "      <th>1</th>\n",
       "      <td>referral</td>\n",
       "      <td>3257</td>\n",
       "      <td>3000</td>\n",
       "      <td>0.921093</td>\n",
       "    </tr>\n",
       "    <tr>\n",
       "      <th>2</th>\n",
       "      <td>social</td>\n",
       "      <td>982</td>\n",
       "      <td>3000</td>\n",
       "      <td>3.054990</td>\n",
       "    </tr>\n",
       "    <tr>\n",
       "      <th>3</th>\n",
       "      <td>paid_search</td>\n",
       "      <td>328</td>\n",
       "      <td>3000</td>\n",
       "      <td>9.146341</td>\n",
       "    </tr>\n",
       "    <tr>\n",
       "      <th>4</th>\n",
       "      <td>display</td>\n",
       "      <td>870</td>\n",
       "      <td>3000</td>\n",
       "      <td>3.448276</td>\n",
       "    </tr>\n",
       "    <tr>\n",
       "      <th>5</th>\n",
       "      <td>direct</td>\n",
       "      <td>1</td>\n",
       "      <td>0</td>\n",
       "      <td>0.000000</td>\n",
       "    </tr>\n",
       "    <tr>\n",
       "      <th>6</th>\n",
       "      <td>organic_search</td>\n",
       "      <td>7</td>\n",
       "      <td>0</td>\n",
       "      <td>0.000000</td>\n",
       "    </tr>\n",
       "  </tbody>\n",
       "</table>\n",
       "</div>"
      ],
      "text/plain": [
       "          channel  convert_num  spending       CAC\n",
       "0           email          618      3000  4.854369\n",
       "1        referral         3257      3000  0.921093\n",
       "2          social          982      3000  3.054990\n",
       "3     paid_search          328      3000  9.146341\n",
       "4         display          870      3000  3.448276\n",
       "5          direct            1         0  0.000000\n",
       "6  organic_search            7         0  0.000000"
      ]
     },
     "execution_count": 27,
     "metadata": {},
     "output_type": "execute_result"
    }
   ],
   "source": [
    "df_1a_tier3"
   ]
  },
  {
   "cell_type": "code",
   "execution_count": null,
   "id": "ed0ffdc5",
   "metadata": {},
   "outputs": [],
   "source": []
  },
  {
   "cell_type": "markdown",
   "id": "ea6ee92b",
   "metadata": {},
   "source": [
    "q1(b) Last interaction"
   ]
  },
  {
   "cell_type": "code",
   "execution_count": 51,
   "id": "d57be5a1",
   "metadata": {},
   "outputs": [],
   "source": [
    "dict_tier1 = {}\n",
    "for channel in channel_list:\n",
    "    dict_tier1[channel] = df_tier1[df_tier1['Last interaction'] == channel]['convert_TF'].sum()\n",
    "    \n",
    "dict_tier2 = {}\n",
    "for channel in channel_list:\n",
    "    dict_tier2[channel] = df_tier2[df_tier2['Last interaction'] == channel]['convert_TF'].sum()\n",
    "    \n",
    "dict_tier3 = {}\n",
    "for channel in channel_list:\n",
    "    dict_tier3[channel] = df_tier3[df_tier3['Last interaction'] == channel]['convert_TF'].sum()"
   ]
  },
  {
   "cell_type": "code",
   "execution_count": 55,
   "id": "5f0cc7ee",
   "metadata": {},
   "outputs": [],
   "source": [
    "df_1b_tier1 = pd.DataFrame.from_dict(dict_tier1,orient = 'index', columns = ['convert_num'])\n",
    "df_1b_tier1 = df_1b_tier1.reset_index().rename(columns = {'index':'channel'})\n",
    "\n",
    "df_1b_tier2 = pd.DataFrame.from_dict(dict_tier2,orient = 'index', columns = ['convert_num'])\n",
    "df_1b_tier2 = df_1b_tier2.reset_index().rename(columns = {'index':'channel'})\n",
    "\n",
    "df_1b_tier3 = pd.DataFrame.from_dict(dict_tier3,orient = 'index', columns = ['convert_num'])\n",
    "df_1b_tier3 = df_1b_tier3.reset_index().rename(columns = {'index':'channel'})"
   ]
  },
  {
   "cell_type": "code",
   "execution_count": 63,
   "id": "903cab7f",
   "metadata": {},
   "outputs": [],
   "source": [
    "spending_tier1 = [1000,1000,1000,1000,1000,0,0]\n",
    "spending_tier2 = [2000,2000,2000,2000,2000,0,0]\n",
    "spending_tier3 = [3000,3000,3000,3000,3000,0,0]"
   ]
  },
  {
   "cell_type": "code",
   "execution_count": 64,
   "id": "6880ec6e",
   "metadata": {},
   "outputs": [],
   "source": [
    "df_1b_tier1['spending'] = spending_tier1\n",
    "df_1b_tier2['spending'] = spending_tier2\n",
    "df_1b_tier3['spending'] = spending_tier3"
   ]
  },
  {
   "cell_type": "code",
   "execution_count": 68,
   "id": "8a5e2b81",
   "metadata": {},
   "outputs": [],
   "source": [
    "df_1b_tier1['CAC'] = df_1b_tier1['spending']/df_1b_tier1['convert_num']\n",
    "df_1b_tier2['CAC'] = df_1b_tier2['spending']/df_1b_tier2['convert_num']\n",
    "df_1b_tier3['CAC'] = df_1b_tier3['spending']/df_1b_tier3['convert_num']"
   ]
  },
  {
   "cell_type": "code",
   "execution_count": 69,
   "id": "85cbb682",
   "metadata": {},
   "outputs": [
    {
     "data": {
      "text/html": [
       "<div>\n",
       "<style scoped>\n",
       "    .dataframe tbody tr th:only-of-type {\n",
       "        vertical-align: middle;\n",
       "    }\n",
       "\n",
       "    .dataframe tbody tr th {\n",
       "        vertical-align: top;\n",
       "    }\n",
       "\n",
       "    .dataframe thead th {\n",
       "        text-align: right;\n",
       "    }\n",
       "</style>\n",
       "<table border=\"1\" class=\"dataframe\">\n",
       "  <thead>\n",
       "    <tr style=\"text-align: right;\">\n",
       "      <th></th>\n",
       "      <th>channel</th>\n",
       "      <th>convert_num</th>\n",
       "      <th>spending</th>\n",
       "      <th>CAC</th>\n",
       "    </tr>\n",
       "  </thead>\n",
       "  <tbody>\n",
       "    <tr>\n",
       "      <th>0</th>\n",
       "      <td>email</td>\n",
       "      <td>281</td>\n",
       "      <td>1000</td>\n",
       "      <td>3.558719</td>\n",
       "    </tr>\n",
       "    <tr>\n",
       "      <th>1</th>\n",
       "      <td>referral</td>\n",
       "      <td>1211</td>\n",
       "      <td>1000</td>\n",
       "      <td>0.825764</td>\n",
       "    </tr>\n",
       "    <tr>\n",
       "      <th>2</th>\n",
       "      <td>social</td>\n",
       "      <td>625</td>\n",
       "      <td>1000</td>\n",
       "      <td>1.600000</td>\n",
       "    </tr>\n",
       "    <tr>\n",
       "      <th>3</th>\n",
       "      <td>paid_search</td>\n",
       "      <td>176</td>\n",
       "      <td>1000</td>\n",
       "      <td>5.681818</td>\n",
       "    </tr>\n",
       "    <tr>\n",
       "      <th>4</th>\n",
       "      <td>display</td>\n",
       "      <td>528</td>\n",
       "      <td>1000</td>\n",
       "      <td>1.893939</td>\n",
       "    </tr>\n",
       "    <tr>\n",
       "      <th>5</th>\n",
       "      <td>direct</td>\n",
       "      <td>1</td>\n",
       "      <td>0</td>\n",
       "      <td>0.000000</td>\n",
       "    </tr>\n",
       "    <tr>\n",
       "      <th>6</th>\n",
       "      <td>organic_search</td>\n",
       "      <td>2</td>\n",
       "      <td>0</td>\n",
       "      <td>0.000000</td>\n",
       "    </tr>\n",
       "  </tbody>\n",
       "</table>\n",
       "</div>"
      ],
      "text/plain": [
       "          channel  convert_num  spending       CAC\n",
       "0           email          281      1000  3.558719\n",
       "1        referral         1211      1000  0.825764\n",
       "2          social          625      1000  1.600000\n",
       "3     paid_search          176      1000  5.681818\n",
       "4         display          528      1000  1.893939\n",
       "5          direct            1         0  0.000000\n",
       "6  organic_search            2         0  0.000000"
      ]
     },
     "execution_count": 69,
     "metadata": {},
     "output_type": "execute_result"
    }
   ],
   "source": [
    "df_1b_tier1"
   ]
  },
  {
   "cell_type": "code",
   "execution_count": 70,
   "id": "fc54fc6f",
   "metadata": {
    "scrolled": true
   },
   "outputs": [
    {
     "data": {
      "text/html": [
       "<div>\n",
       "<style scoped>\n",
       "    .dataframe tbody tr th:only-of-type {\n",
       "        vertical-align: middle;\n",
       "    }\n",
       "\n",
       "    .dataframe tbody tr th {\n",
       "        vertical-align: top;\n",
       "    }\n",
       "\n",
       "    .dataframe thead th {\n",
       "        text-align: right;\n",
       "    }\n",
       "</style>\n",
       "<table border=\"1\" class=\"dataframe\">\n",
       "  <thead>\n",
       "    <tr style=\"text-align: right;\">\n",
       "      <th></th>\n",
       "      <th>channel</th>\n",
       "      <th>convert_num</th>\n",
       "      <th>spending</th>\n",
       "      <th>CAC</th>\n",
       "    </tr>\n",
       "  </thead>\n",
       "  <tbody>\n",
       "    <tr>\n",
       "      <th>0</th>\n",
       "      <td>email</td>\n",
       "      <td>555</td>\n",
       "      <td>2000</td>\n",
       "      <td>3.603604</td>\n",
       "    </tr>\n",
       "    <tr>\n",
       "      <th>1</th>\n",
       "      <td>referral</td>\n",
       "      <td>2107</td>\n",
       "      <td>2000</td>\n",
       "      <td>0.949217</td>\n",
       "    </tr>\n",
       "    <tr>\n",
       "      <th>2</th>\n",
       "      <td>social</td>\n",
       "      <td>1060</td>\n",
       "      <td>2000</td>\n",
       "      <td>1.886792</td>\n",
       "    </tr>\n",
       "    <tr>\n",
       "      <th>3</th>\n",
       "      <td>paid_search</td>\n",
       "      <td>347</td>\n",
       "      <td>2000</td>\n",
       "      <td>5.763689</td>\n",
       "    </tr>\n",
       "    <tr>\n",
       "      <th>4</th>\n",
       "      <td>display</td>\n",
       "      <td>818</td>\n",
       "      <td>2000</td>\n",
       "      <td>2.444988</td>\n",
       "    </tr>\n",
       "    <tr>\n",
       "      <th>5</th>\n",
       "      <td>direct</td>\n",
       "      <td>1</td>\n",
       "      <td>0</td>\n",
       "      <td>0.000000</td>\n",
       "    </tr>\n",
       "    <tr>\n",
       "      <th>6</th>\n",
       "      <td>organic_search</td>\n",
       "      <td>4</td>\n",
       "      <td>0</td>\n",
       "      <td>0.000000</td>\n",
       "    </tr>\n",
       "  </tbody>\n",
       "</table>\n",
       "</div>"
      ],
      "text/plain": [
       "          channel  convert_num  spending       CAC\n",
       "0           email          555      2000  3.603604\n",
       "1        referral         2107      2000  0.949217\n",
       "2          social         1060      2000  1.886792\n",
       "3     paid_search          347      2000  5.763689\n",
       "4         display          818      2000  2.444988\n",
       "5          direct            1         0  0.000000\n",
       "6  organic_search            4         0  0.000000"
      ]
     },
     "execution_count": 70,
     "metadata": {},
     "output_type": "execute_result"
    }
   ],
   "source": [
    "df_1b_tier2"
   ]
  },
  {
   "cell_type": "code",
   "execution_count": 71,
   "id": "d26b766f",
   "metadata": {},
   "outputs": [
    {
     "data": {
      "text/html": [
       "<div>\n",
       "<style scoped>\n",
       "    .dataframe tbody tr th:only-of-type {\n",
       "        vertical-align: middle;\n",
       "    }\n",
       "\n",
       "    .dataframe tbody tr th {\n",
       "        vertical-align: top;\n",
       "    }\n",
       "\n",
       "    .dataframe thead th {\n",
       "        text-align: right;\n",
       "    }\n",
       "</style>\n",
       "<table border=\"1\" class=\"dataframe\">\n",
       "  <thead>\n",
       "    <tr style=\"text-align: right;\">\n",
       "      <th></th>\n",
       "      <th>channel</th>\n",
       "      <th>convert_num</th>\n",
       "      <th>spending</th>\n",
       "      <th>CAC</th>\n",
       "    </tr>\n",
       "  </thead>\n",
       "  <tbody>\n",
       "    <tr>\n",
       "      <th>0</th>\n",
       "      <td>email</td>\n",
       "      <td>655</td>\n",
       "      <td>3000</td>\n",
       "      <td>4.580153</td>\n",
       "    </tr>\n",
       "    <tr>\n",
       "      <th>1</th>\n",
       "      <td>referral</td>\n",
       "      <td>2696</td>\n",
       "      <td>3000</td>\n",
       "      <td>1.112760</td>\n",
       "    </tr>\n",
       "    <tr>\n",
       "      <th>2</th>\n",
       "      <td>social</td>\n",
       "      <td>1275</td>\n",
       "      <td>3000</td>\n",
       "      <td>2.352941</td>\n",
       "    </tr>\n",
       "    <tr>\n",
       "      <th>3</th>\n",
       "      <td>paid_search</td>\n",
       "      <td>481</td>\n",
       "      <td>3000</td>\n",
       "      <td>6.237006</td>\n",
       "    </tr>\n",
       "    <tr>\n",
       "      <th>4</th>\n",
       "      <td>display</td>\n",
       "      <td>946</td>\n",
       "      <td>3000</td>\n",
       "      <td>3.171247</td>\n",
       "    </tr>\n",
       "    <tr>\n",
       "      <th>5</th>\n",
       "      <td>direct</td>\n",
       "      <td>5</td>\n",
       "      <td>0</td>\n",
       "      <td>0.000000</td>\n",
       "    </tr>\n",
       "    <tr>\n",
       "      <th>6</th>\n",
       "      <td>organic_search</td>\n",
       "      <td>5</td>\n",
       "      <td>0</td>\n",
       "      <td>0.000000</td>\n",
       "    </tr>\n",
       "  </tbody>\n",
       "</table>\n",
       "</div>"
      ],
      "text/plain": [
       "          channel  convert_num  spending       CAC\n",
       "0           email          655      3000  4.580153\n",
       "1        referral         2696      3000  1.112760\n",
       "2          social         1275      3000  2.352941\n",
       "3     paid_search          481      3000  6.237006\n",
       "4         display          946      3000  3.171247\n",
       "5          direct            5         0  0.000000\n",
       "6  organic_search            5         0  0.000000"
      ]
     },
     "execution_count": 71,
     "metadata": {},
     "output_type": "execute_result"
    }
   ],
   "source": [
    "df_1b_tier3"
   ]
  },
  {
   "cell_type": "code",
   "execution_count": null,
   "id": "980b86cd",
   "metadata": {},
   "outputs": [],
   "source": []
  },
  {
   "cell_type": "markdown",
   "id": "01e29edd",
   "metadata": {},
   "source": [
    "q1(c) Position based interaction"
   ]
  },
  {
   "cell_type": "code",
   "execution_count": 28,
   "id": "868be802",
   "metadata": {},
   "outputs": [],
   "source": [
    "dict_1c_tier1 = {}\n",
    "for channel in channel_list:\n",
    "    dict_1c_tier1[channel] = df_tier1[df_tier1['touch1'] == channel]['convert_TF'].sum()/2 + df_tier1[df_tier1['Last interaction'] == channel]['convert_TF'].sum()/2\n",
    "    \n",
    "dict_1c_tier2 = {}\n",
    "for channel in channel_list:\n",
    "    dict_1c_tier2[channel] = df_tier2[df_tier2['touch1'] == channel]['convert_TF'].sum()/2 + df_tier2[df_tier2['Last interaction'] == channel]['convert_TF'].sum()/2\n",
    "    \n",
    "dict_1c_tier3 = {}\n",
    "for channel in channel_list:\n",
    "    dict_1c_tier3[channel] = df_tier3[df_tier3['touch1'] == channel]['convert_TF'].sum()/2 + df_tier3[df_tier3['Last interaction'] == channel]['convert_TF'].sum()/2"
   ]
  },
  {
   "cell_type": "code",
   "execution_count": 29,
   "id": "3e6584d3",
   "metadata": {},
   "outputs": [],
   "source": [
    "df_1c_tier1 = pd.DataFrame.from_dict(dict_1c_tier1,orient = 'index', columns = ['convert_num'])\n",
    "df_1c_tier1 = df_1c_tier1.reset_index().rename(columns = {'index':'channel'})\n",
    "\n",
    "df_1c_tier2 = pd.DataFrame.from_dict(dict_1c_tier2,orient = 'index', columns = ['convert_num'])\n",
    "df_1c_tier2 = df_1c_tier2.reset_index().rename(columns = {'index':'channel'})\n",
    "\n",
    "df_1c_tier3 = pd.DataFrame.from_dict(dict_1c_tier3,orient = 'index', columns = ['convert_num'])\n",
    "df_1c_tier3 = df_1c_tier3.reset_index().rename(columns = {'index':'channel'})"
   ]
  },
  {
   "cell_type": "code",
   "execution_count": 30,
   "id": "3b94b2ba",
   "metadata": {},
   "outputs": [],
   "source": [
    "spending_tier1 = [1000,1000,1000,1000,1000,0,0]\n",
    "spending_tier2 = [2000,2000,2000,2000,2000,0,0]\n",
    "spending_tier3 = [3000,3000,3000,3000,3000,0,0]"
   ]
  },
  {
   "cell_type": "code",
   "execution_count": 31,
   "id": "51ec7126",
   "metadata": {},
   "outputs": [],
   "source": [
    "df_1c_tier1['spending'] = spending_tier1\n",
    "df_1c_tier2['spending'] = spending_tier2\n",
    "df_1c_tier3['spending'] = spending_tier3"
   ]
  },
  {
   "cell_type": "code",
   "execution_count": 32,
   "id": "171226fd",
   "metadata": {},
   "outputs": [],
   "source": [
    "df_1c_tier1['CAC'] = df_1c_tier1['spending']/df_1a_tier1['convert_num']\n",
    "df_1c_tier2['CAC'] = df_1c_tier2['spending']/df_1a_tier2['convert_num']\n",
    "df_1c_tier3['CAC'] = df_1c_tier3['spending']/df_1a_tier3['convert_num']"
   ]
  },
  {
   "cell_type": "code",
   "execution_count": 33,
   "id": "d9c3974b",
   "metadata": {},
   "outputs": [
    {
     "data": {
      "text/html": [
       "<div>\n",
       "<style scoped>\n",
       "    .dataframe tbody tr th:only-of-type {\n",
       "        vertical-align: middle;\n",
       "    }\n",
       "\n",
       "    .dataframe tbody tr th {\n",
       "        vertical-align: top;\n",
       "    }\n",
       "\n",
       "    .dataframe thead th {\n",
       "        text-align: right;\n",
       "    }\n",
       "</style>\n",
       "<table border=\"1\" class=\"dataframe\">\n",
       "  <thead>\n",
       "    <tr style=\"text-align: right;\">\n",
       "      <th></th>\n",
       "      <th>channel</th>\n",
       "      <th>convert_num</th>\n",
       "      <th>spending</th>\n",
       "      <th>CAC</th>\n",
       "    </tr>\n",
       "  </thead>\n",
       "  <tbody>\n",
       "    <tr>\n",
       "      <th>0</th>\n",
       "      <td>email</td>\n",
       "      <td>272.5</td>\n",
       "      <td>1000</td>\n",
       "      <td>3.787879</td>\n",
       "    </tr>\n",
       "    <tr>\n",
       "      <th>1</th>\n",
       "      <td>referral</td>\n",
       "      <td>1365.0</td>\n",
       "      <td>1000</td>\n",
       "      <td>0.658328</td>\n",
       "    </tr>\n",
       "    <tr>\n",
       "      <th>2</th>\n",
       "      <td>social</td>\n",
       "      <td>550.0</td>\n",
       "      <td>1000</td>\n",
       "      <td>2.105263</td>\n",
       "    </tr>\n",
       "    <tr>\n",
       "      <th>3</th>\n",
       "      <td>paid_search</td>\n",
       "      <td>152.5</td>\n",
       "      <td>1000</td>\n",
       "      <td>7.751938</td>\n",
       "    </tr>\n",
       "    <tr>\n",
       "      <th>4</th>\n",
       "      <td>display</td>\n",
       "      <td>481.5</td>\n",
       "      <td>1000</td>\n",
       "      <td>2.298851</td>\n",
       "    </tr>\n",
       "    <tr>\n",
       "      <th>5</th>\n",
       "      <td>direct</td>\n",
       "      <td>1.0</td>\n",
       "      <td>0</td>\n",
       "      <td>0.000000</td>\n",
       "    </tr>\n",
       "    <tr>\n",
       "      <th>6</th>\n",
       "      <td>organic_search</td>\n",
       "      <td>1.5</td>\n",
       "      <td>0</td>\n",
       "      <td>0.000000</td>\n",
       "    </tr>\n",
       "  </tbody>\n",
       "</table>\n",
       "</div>"
      ],
      "text/plain": [
       "          channel  convert_num  spending       CAC\n",
       "0           email        272.5      1000  3.787879\n",
       "1        referral       1365.0      1000  0.658328\n",
       "2          social        550.0      1000  2.105263\n",
       "3     paid_search        152.5      1000  7.751938\n",
       "4         display        481.5      1000  2.298851\n",
       "5          direct          1.0         0  0.000000\n",
       "6  organic_search          1.5         0  0.000000"
      ]
     },
     "execution_count": 33,
     "metadata": {},
     "output_type": "execute_result"
    }
   ],
   "source": [
    "df_1c_tier1"
   ]
  },
  {
   "cell_type": "code",
   "execution_count": 34,
   "id": "d93460bd",
   "metadata": {},
   "outputs": [
    {
     "data": {
      "text/html": [
       "<div>\n",
       "<style scoped>\n",
       "    .dataframe tbody tr th:only-of-type {\n",
       "        vertical-align: middle;\n",
       "    }\n",
       "\n",
       "    .dataframe tbody tr th {\n",
       "        vertical-align: top;\n",
       "    }\n",
       "\n",
       "    .dataframe thead th {\n",
       "        text-align: right;\n",
       "    }\n",
       "</style>\n",
       "<table border=\"1\" class=\"dataframe\">\n",
       "  <thead>\n",
       "    <tr style=\"text-align: right;\">\n",
       "      <th></th>\n",
       "      <th>channel</th>\n",
       "      <th>convert_num</th>\n",
       "      <th>spending</th>\n",
       "      <th>CAC</th>\n",
       "    </tr>\n",
       "  </thead>\n",
       "  <tbody>\n",
       "    <tr>\n",
       "      <th>0</th>\n",
       "      <td>email</td>\n",
       "      <td>478.5</td>\n",
       "      <td>2000</td>\n",
       "      <td>4.975124</td>\n",
       "    </tr>\n",
       "    <tr>\n",
       "      <th>1</th>\n",
       "      <td>referral</td>\n",
       "      <td>2413.0</td>\n",
       "      <td>2000</td>\n",
       "      <td>0.735565</td>\n",
       "    </tr>\n",
       "    <tr>\n",
       "      <th>2</th>\n",
       "      <td>social</td>\n",
       "      <td>941.5</td>\n",
       "      <td>2000</td>\n",
       "      <td>2.430134</td>\n",
       "    </tr>\n",
       "    <tr>\n",
       "      <th>3</th>\n",
       "      <td>paid_search</td>\n",
       "      <td>279.0</td>\n",
       "      <td>2000</td>\n",
       "      <td>9.478673</td>\n",
       "    </tr>\n",
       "    <tr>\n",
       "      <th>4</th>\n",
       "      <td>display</td>\n",
       "      <td>772.0</td>\n",
       "      <td>2000</td>\n",
       "      <td>2.754821</td>\n",
       "    </tr>\n",
       "    <tr>\n",
       "      <th>5</th>\n",
       "      <td>direct</td>\n",
       "      <td>2.5</td>\n",
       "      <td>0</td>\n",
       "      <td>0.000000</td>\n",
       "    </tr>\n",
       "    <tr>\n",
       "      <th>6</th>\n",
       "      <td>organic_search</td>\n",
       "      <td>5.5</td>\n",
       "      <td>0</td>\n",
       "      <td>0.000000</td>\n",
       "    </tr>\n",
       "  </tbody>\n",
       "</table>\n",
       "</div>"
      ],
      "text/plain": [
       "          channel  convert_num  spending       CAC\n",
       "0           email        478.5      2000  4.975124\n",
       "1        referral       2413.0      2000  0.735565\n",
       "2          social        941.5      2000  2.430134\n",
       "3     paid_search        279.0      2000  9.478673\n",
       "4         display        772.0      2000  2.754821\n",
       "5          direct          2.5         0  0.000000\n",
       "6  organic_search          5.5         0  0.000000"
      ]
     },
     "execution_count": 34,
     "metadata": {},
     "output_type": "execute_result"
    }
   ],
   "source": [
    "df_1c_tier2"
   ]
  },
  {
   "cell_type": "code",
   "execution_count": 35,
   "id": "85c4cc30",
   "metadata": {},
   "outputs": [
    {
     "data": {
      "text/html": [
       "<div>\n",
       "<style scoped>\n",
       "    .dataframe tbody tr th:only-of-type {\n",
       "        vertical-align: middle;\n",
       "    }\n",
       "\n",
       "    .dataframe tbody tr th {\n",
       "        vertical-align: top;\n",
       "    }\n",
       "\n",
       "    .dataframe thead th {\n",
       "        text-align: right;\n",
       "    }\n",
       "</style>\n",
       "<table border=\"1\" class=\"dataframe\">\n",
       "  <thead>\n",
       "    <tr style=\"text-align: right;\">\n",
       "      <th></th>\n",
       "      <th>channel</th>\n",
       "      <th>convert_num</th>\n",
       "      <th>spending</th>\n",
       "      <th>CAC</th>\n",
       "    </tr>\n",
       "  </thead>\n",
       "  <tbody>\n",
       "    <tr>\n",
       "      <th>0</th>\n",
       "      <td>email</td>\n",
       "      <td>636.5</td>\n",
       "      <td>3000</td>\n",
       "      <td>4.854369</td>\n",
       "    </tr>\n",
       "    <tr>\n",
       "      <th>1</th>\n",
       "      <td>referral</td>\n",
       "      <td>2976.5</td>\n",
       "      <td>3000</td>\n",
       "      <td>0.921093</td>\n",
       "    </tr>\n",
       "    <tr>\n",
       "      <th>2</th>\n",
       "      <td>social</td>\n",
       "      <td>1128.5</td>\n",
       "      <td>3000</td>\n",
       "      <td>3.054990</td>\n",
       "    </tr>\n",
       "    <tr>\n",
       "      <th>3</th>\n",
       "      <td>paid_search</td>\n",
       "      <td>404.5</td>\n",
       "      <td>3000</td>\n",
       "      <td>9.146341</td>\n",
       "    </tr>\n",
       "    <tr>\n",
       "      <th>4</th>\n",
       "      <td>display</td>\n",
       "      <td>908.0</td>\n",
       "      <td>3000</td>\n",
       "      <td>3.448276</td>\n",
       "    </tr>\n",
       "    <tr>\n",
       "      <th>5</th>\n",
       "      <td>direct</td>\n",
       "      <td>3.0</td>\n",
       "      <td>0</td>\n",
       "      <td>0.000000</td>\n",
       "    </tr>\n",
       "    <tr>\n",
       "      <th>6</th>\n",
       "      <td>organic_search</td>\n",
       "      <td>6.0</td>\n",
       "      <td>0</td>\n",
       "      <td>0.000000</td>\n",
       "    </tr>\n",
       "  </tbody>\n",
       "</table>\n",
       "</div>"
      ],
      "text/plain": [
       "          channel  convert_num  spending       CAC\n",
       "0           email        636.5      3000  4.854369\n",
       "1        referral       2976.5      3000  0.921093\n",
       "2          social       1128.5      3000  3.054990\n",
       "3     paid_search        404.5      3000  9.146341\n",
       "4         display        908.0      3000  3.448276\n",
       "5          direct          3.0         0  0.000000\n",
       "6  organic_search          6.0         0  0.000000"
      ]
     },
     "execution_count": 35,
     "metadata": {},
     "output_type": "execute_result"
    }
   ],
   "source": [
    "df_1c_tier3"
   ]
  },
  {
   "cell_type": "markdown",
   "id": "85fcbabd",
   "metadata": {},
   "source": [
    "# Q2"
   ]
  },
  {
   "cell_type": "code",
   "execution_count": 74,
   "id": "8313ae3c",
   "metadata": {},
   "outputs": [],
   "source": [
    "from collections import defaultdict"
   ]
  },
  {
   "cell_type": "code",
   "execution_count": 93,
   "id": "ec2ca4a0",
   "metadata": {},
   "outputs": [],
   "source": [
    "channel_list = list(channel_list)"
   ]
  },
  {
   "cell_type": "code",
   "execution_count": 94,
   "id": "bba21a6c",
   "metadata": {},
   "outputs": [],
   "source": [
    "channel_list.remove('direct')\n",
    "channel_list.remove('organic_search')"
   ]
  },
  {
   "cell_type": "code",
   "execution_count": 97,
   "id": "e9887b96",
   "metadata": {},
   "outputs": [],
   "source": [
    "dict2 = defaultdict(list)\n",
    "\n",
    "for channel in channel_list:\n",
    "    margin_1 = (df_1b_tier1[df_1b_tier1['channel'] == channel].iloc[0,2])/(df_1b_tier1[df_1b_tier1['channel'] == channel].iloc[0,1])\n",
    "    margin_2 = (df_1b_tier2[df_1b_tier2['channel'] == channel].iloc[0,2] - (df_1b_tier1[df_1b_tier1['channel'] == channel].iloc[0,2]))/(df_1b_tier2[df_1b_tier2['channel'] == channel].iloc[0,1] - (df_1b_tier1[df_1b_tier1['channel'] == channel].iloc[0,1]))\n",
    "    margin_3 = (df_1b_tier3[df_1b_tier3['channel'] == channel].iloc[0,2] - (df_1b_tier2[df_1b_tier2['channel'] == channel].iloc[0,2]))/\\\n",
    "    (df_1b_tier3[df_1b_tier3['channel'] == channel].iloc[0,1] - (df_1b_tier2[df_1b_tier2['channel'] == channel].iloc[0,1]))\n",
    "    dict2[channel].append(margin_1)\n",
    "    dict2[channel].append(margin_2)\n",
    "    dict2[channel].append(margin_3)\n"
   ]
  },
  {
   "cell_type": "code",
   "execution_count": 99,
   "id": "c38d3950",
   "metadata": {},
   "outputs": [],
   "source": [
    "df_2 = pd.DataFrame(dict2)"
   ]
  },
  {
   "cell_type": "code",
   "execution_count": 100,
   "id": "932bc1e8",
   "metadata": {},
   "outputs": [
    {
     "data": {
      "text/html": [
       "<div>\n",
       "<style scoped>\n",
       "    .dataframe tbody tr th:only-of-type {\n",
       "        vertical-align: middle;\n",
       "    }\n",
       "\n",
       "    .dataframe tbody tr th {\n",
       "        vertical-align: top;\n",
       "    }\n",
       "\n",
       "    .dataframe thead th {\n",
       "        text-align: right;\n",
       "    }\n",
       "</style>\n",
       "<table border=\"1\" class=\"dataframe\">\n",
       "  <thead>\n",
       "    <tr style=\"text-align: right;\">\n",
       "      <th></th>\n",
       "      <th>email</th>\n",
       "      <th>referral</th>\n",
       "      <th>social</th>\n",
       "      <th>paid_search</th>\n",
       "      <th>display</th>\n",
       "    </tr>\n",
       "  </thead>\n",
       "  <tbody>\n",
       "    <tr>\n",
       "      <th>0</th>\n",
       "      <td>3.558719</td>\n",
       "      <td>0.825764</td>\n",
       "      <td>1.600000</td>\n",
       "      <td>5.681818</td>\n",
       "      <td>1.893939</td>\n",
       "    </tr>\n",
       "    <tr>\n",
       "      <th>1</th>\n",
       "      <td>3.649635</td>\n",
       "      <td>1.116071</td>\n",
       "      <td>2.298851</td>\n",
       "      <td>5.847953</td>\n",
       "      <td>3.448276</td>\n",
       "    </tr>\n",
       "    <tr>\n",
       "      <th>2</th>\n",
       "      <td>10.000000</td>\n",
       "      <td>1.697793</td>\n",
       "      <td>4.651163</td>\n",
       "      <td>7.462687</td>\n",
       "      <td>7.812500</td>\n",
       "    </tr>\n",
       "  </tbody>\n",
       "</table>\n",
       "</div>"
      ],
      "text/plain": [
       "       email  referral    social  paid_search   display\n",
       "0   3.558719  0.825764  1.600000     5.681818  1.893939\n",
       "1   3.649635  1.116071  2.298851     5.847953  3.448276\n",
       "2  10.000000  1.697793  4.651163     7.462687  7.812500"
      ]
     },
     "execution_count": 100,
     "metadata": {},
     "output_type": "execute_result"
    }
   ],
   "source": [
    "df_2"
   ]
  }
 ],
 "metadata": {
  "kernelspec": {
   "display_name": "Python 3",
   "language": "python",
   "name": "python3"
  },
  "language_info": {
   "codemirror_mode": {
    "name": "ipython",
    "version": 3
   },
   "file_extension": ".py",
   "mimetype": "text/x-python",
   "name": "python",
   "nbconvert_exporter": "python",
   "pygments_lexer": "ipython3",
   "version": "3.8.8"
  }
 },
 "nbformat": 4,
 "nbformat_minor": 5
}
